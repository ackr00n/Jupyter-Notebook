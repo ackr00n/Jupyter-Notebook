{
 "cells": [
  {
   "cell_type": "code",
   "execution_count": 2,
   "id": "ff551da1",
   "metadata": {},
   "outputs": [],
   "source": [
    "import requests\n",
    "foto = \"https://img.freepik.com/foto-gratis/disparo-gran-angular-solo-arbol-que-crece-cielo-nublado-puesta-sol-rodeada-cesped_181624-22807.jpg?w=2000\"\n",
    "\n",
    "mifoto = \"foto.jpg\"\n",
    "\n",
    "imagen = requests.get(foto).content\n",
    "with open(mifoto,\"wb\") as x:\n",
    "    x.write(imagen)"
   ]
  },
  {
   "cell_type": "markdown",
   "id": "0667d695",
   "metadata": {},
   "source": [
    "# Buscar en internet una imagen formato png\n",
    "Guardar en la carpeta C:\\Users\\Tecnicos\\Desktop\\Carmelo\\Programacion\\jupyter\n",
    "dentro de esto...tengo una carpeta creada por python llamada fotos\n",
    "y ahí guardas la imagen png de internet con el nombre prueba.png"
   ]
  },
  {
   "cell_type": "code",
   "execution_count": 33,
   "id": "7174a8d1",
   "metadata": {},
   "outputs": [
    {
     "ename": "TypeError",
     "evalue": "can only concatenate str (not \"set\") to str",
     "output_type": "error",
     "traceback": [
      "\u001b[1;31m---------------------------------------------------------------------------\u001b[0m",
      "\u001b[1;31mTypeError\u001b[0m                                 Traceback (most recent call last)",
      "\u001b[1;32m~\\AppData\\Local\\Temp\\ipykernel_14972\\926375864.py\u001b[0m in \u001b[0;36m<module>\u001b[1;34m\u001b[0m\n\u001b[0;32m      5\u001b[0m \u001b[0mruta\u001b[0m \u001b[1;33m=\u001b[0m \u001b[1;34mr\"C:\\Users\\Tecnicos\\Desktop\\Ivan\\Programacion\\Jupyter\\\\\"\u001b[0m\u001b[1;33m\u001b[0m\u001b[1;33m\u001b[0m\u001b[0m\n\u001b[0;32m      6\u001b[0m \u001b[0mfecha\u001b[0m \u001b[1;33m=\u001b[0m \u001b[0mdatetime\u001b[0m\u001b[1;33m.\u001b[0m\u001b[0mnow\u001b[0m\u001b[1;33m(\u001b[0m\u001b[1;33m)\u001b[0m\u001b[1;33m\u001b[0m\u001b[1;33m\u001b[0m\u001b[0m\n\u001b[1;32m----> 7\u001b[1;33m \u001b[0mfoto\u001b[0m\u001b[1;33m:\u001b[0m\u001b[0mstr\u001b[0m \u001b[1;33m=\u001b[0m \u001b[1;34m\"prueba\"\u001b[0m\u001b[1;33m+\u001b[0m\u001b[1;33m{\u001b[0m\u001b[0mfecha\u001b[0m\u001b[1;33m}\u001b[0m\u001b[1;33m+\u001b[0m\u001b[1;34m\".png\"\u001b[0m\u001b[1;33m\u001b[0m\u001b[1;33m\u001b[0m\u001b[0m\n\u001b[0m\u001b[0;32m      8\u001b[0m \u001b[0mcarpeta_nueva\u001b[0m \u001b[1;33m=\u001b[0m\u001b[0mruta\u001b[0m \u001b[1;33m+\u001b[0m \u001b[1;34m\"fotos\"\u001b[0m\u001b[1;33m\u001b[0m\u001b[1;33m\u001b[0m\u001b[0m\n\u001b[0;32m      9\u001b[0m \u001b[1;33m\u001b[0m\u001b[0m\n",
      "\u001b[1;31mTypeError\u001b[0m: can only concatenate str (not \"set\") to str"
     ]
    }
   ],
   "source": [
    "import os\n",
    "import requests\n",
    "import shutil\n",
    "from datetime import datetime\n",
    "ruta = r\"C:\\Users\\Tecnicos\\Desktop\\Ivan\\Programacion\\Jupyter\\\\\"\n",
    "\n",
    "foto:str = \"prueba\"+fecha+\".png\"\n",
    "carpeta_nueva =ruta + \"fotos\"\n",
    "\n",
    "imagen = \"https://w7.pngwing.com/pngs/110/230/png-transparent-whatsapp-application-software-message-icon-whatsapp-logo-whats-app-logo-logo-grass-mobile-phones.png\"\n",
    "\n",
    "if os.path.isdir(carpeta_nueva) is not True:\n",
    "    os.mkdir(carpeta_nueva)\n",
    "fecha = datetime.now()\n",
    "\n",
    "sacarContenido = requests.get(imagen).content\n",
    "with open(foto,\"wb\") as f:\n",
    "    f.write(sacarContenido)\n",
    "\n",
    "shutil.move (foto,carpeta_nueva)\n"
   ]
  },
  {
   "cell_type": "code",
   "execution_count": 44,
   "id": "d641825e",
   "metadata": {},
   "outputs": [
    {
     "name": "stdout",
     "output_type": "stream",
     "text": [
      "imagen guardada\n"
     ]
    }
   ],
   "source": [
    "import os\n",
    "import requests\n",
    "from datetime import datetime\n",
    "import time\n",
    "\n",
    "\n",
    "milisegundos=str(datetime.now().timestamp())\n",
    "\n",
    "imagen_internet='https://www.turijobs.com/blog/wp-content/uploads/2022/05/Template-Blog-36.png'\n",
    "ruta='C:\\\\Users\\\\Tecnicos\\\\Desktop\\\\Ivan\\\\Programacion\\\\Jupyter\\\\'\n",
    "carpeta_nueva=ruta+'fotos'\n",
    "if os.path.isdir(carpeta_nueva)!=True:\n",
    "    os.mkdir(carpeta_nueva)\n",
    "#print(os.path.isdir(carpeta_nueva))\n",
    "fecha=str(datetime.now())\n",
    "imagen_guardada=carpeta_nueva+'\\\\prueba_'+milisegundos +'.png'\n",
    "peticion=requests.get(imagen_internet).content\n",
    "with open(imagen_guardada, 'wb') as x:\n",
    "\tx.write(peticion)\n",
    "print('imagen guardada')\n"
   ]
  },
  {
   "cell_type": "code",
   "execution_count": null,
   "id": "e51779dc",
   "metadata": {},
   "outputs": [],
   "source": []
  },
  {
   "cell_type": "code",
   "execution_count": null,
   "id": "825f5e82",
   "metadata": {},
   "outputs": [],
   "source": []
  }
 ],
 "metadata": {
  "kernelspec": {
   "display_name": "Python 3 (ipykernel)",
   "language": "python",
   "name": "python3"
  },
  "language_info": {
   "codemirror_mode": {
    "name": "ipython",
    "version": 3
   },
   "file_extension": ".py",
   "mimetype": "text/x-python",
   "name": "python",
   "nbconvert_exporter": "python",
   "pygments_lexer": "ipython3",
   "version": "3.9.13"
  }
 },
 "nbformat": 4,
 "nbformat_minor": 5
}
